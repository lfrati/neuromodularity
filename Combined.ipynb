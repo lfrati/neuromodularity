{
 "cells": [
  {
   "cell_type": "code",
   "execution_count": 1,
   "metadata": {},
   "outputs": [],
   "source": [
    "import numpy as np\n",
    "import random\n",
    "from collections import OrderedDict, defaultdict\n",
    "from collections import Counter\n",
    "from scipy.stats import norm\n",
    "import pandas as pd\n",
    "from copy import deepcopy\n",
    "import time\n",
    "import json\n",
    "import math\n",
    "\n",
    "# This import registers the 3D projection, but is otherwise unused.\n",
    "from mpl_toolkits.mplot3d import Axes3D\n",
    "import matplotlib.pyplot as plt\n",
    "from matplotlib import cm\n",
    "from matplotlib.ticker import LinearLocator, FormatStrFormatter\n",
    "\n",
    "import pickle\n",
    "import seaborn as sns\n",
    "import networkx as nx"
   ]
  },
  {
   "cell_type": "code",
   "execution_count": 2,
   "metadata": {},
   "outputs": [],
   "source": [
    "### Helper methods, Lapo's stuff\n",
    "def node_to_idxs(node, N):\n",
    "    return [node // N, node % N]\n",
    "\n",
    "\n",
    "def unzip(l):\n",
    "    return list(zip(*l))\n",
    "\n",
    "def normal_marginals(side_len, locality):\n",
    "    rv = norm(loc=0, scale=locality)\n",
    "    x = np.linspace(-1, 1, side_len * 2 + 1)\n",
    "    p = rv.pdf(x)\n",
    "    peak = side_len\n",
    "    cols = list(range(side_len))\n",
    "    marginals = []\n",
    "    for col in cols:\n",
    "        start = peak - col\n",
    "        stop = start + side_len\n",
    "        subset = np.array(p[start:stop])\n",
    "        subset /= subset.sum()\n",
    "        marginals.append(subset)\n",
    "    for subset in marginals:\n",
    "        assert np.isclose(subset.sum(), 1.0)\n",
    "    return marginals\n",
    "\n",
    "def gen_gauss_weights(marginals):\n",
    "    weights = []\n",
    "    for i, col in enumerate(marginals):\n",
    "        for j, row in enumerate(marginals):\n",
    "            X, Y = np.meshgrid(row, col)\n",
    "            w = X * Y\n",
    "            w[i][j] = 0\n",
    "            w /= w.sum()\n",
    "            weights.append(w.flatten())\n",
    "    return np.array(weights)\n",
    "\n",
    "def gen_unif_weights(N):\n",
    "    w = np.ones((N ** 2, N ** 2))\n",
    "    return w / N ** 2\n",
    "\n",
    "def show_weights(weights, N):\n",
    "    i = 0\n",
    "    while i < len(weights):\n",
    "        w = weights[i].reshape(N, N)\n",
    "        plt.imshow(w)\n",
    "        plt.show()\n",
    "        i += np.random.randint(N ** 2 // 3)\n",
    "\n",
    "\n",
    "def show_3d_weights(weights, N):\n",
    "    fig = plt.figure()\n",
    "    ax = fig.gca(projection=\"3d\")\n",
    "\n",
    "    # Make data.\n",
    "    X = np.arange(0, N)\n",
    "    Y = np.arange(0, N)\n",
    "    X, Y = np.meshgrid(X, Y)\n",
    "    Z = weights.reshape(N, N)\n",
    "\n",
    "    # Plot the surface.\n",
    "    surf = ax.plot_surface(X, Y, Z, cmap=cm.coolwarm, linewidth=0)\n",
    "\n",
    "    # Customize the z axis.\n",
    "    # a x.set_zlim(0, .001)\n",
    "    # ax.zaxis.set_major_locator(LinearLocator(10))\n",
    "    # ax.zaxis.set_major_formatter(FormatStrFormatter('%.02f'))\n",
    "\n",
    "    # Add a color bar which maps values to colors.\n",
    "    fig.colorbar(surf, shrink=0.5, aspect=5)\n",
    "\n",
    "    plt.show()"
   ]
  },
  {
   "cell_type": "code",
   "execution_count": 3,
   "metadata": {},
   "outputs": [],
   "source": [
    "### Helper methods, Karl's and Csenge's stuff\n",
    "\n",
    "\n",
    "def init_network_edges(N,av_k,sample_type):\n",
    "    \"\"\"\n",
    "    Adds edges to the initialised empty network.\n",
    "\n",
    "    Parameters:\n",
    "        :N:                   Number of nodes in the network.\n",
    "        :av_k:                Average degree.\n",
    "        :sample_type:         The type of sampling method we want to use.\n",
    "\n",
    "    Returns:\n",
    "        None (adds edges to empty network).\n",
    "    \"\"\"\n",
    "\n",
    "    for node in range(N):\n",
    "        new_edges = np.random.normal(loc=av_k, scale=1.0)\n",
    "        if new_edges < 0:\n",
    "            new_edges = 0\n",
    "        #if sample_type == \"local\": #check if this is needed\n",
    "        network.add_edges(node, int(new_edges))\n",
    "\n",
    "def let_them_go(firing_nodes , N): \n",
    "    \"\"\"\n",
    "    Adds activity to nodes that are neighbors of firing nodes.\n",
    "\n",
    "    Parameters:\n",
    "        :firing_nodes:            Set of nodes that reached the treshold.\n",
    "\n",
    "    Returns:\n",
    "        New activity state and nodes that fired (we need for fitness).\n",
    "    \"\"\"\n",
    "    \n",
    "    activity_state = np.zeros(N)\n",
    "    for x in firing_nodes:\n",
    "        nodes_that_receive = list(network.adjL.get(x))\n",
    "        activity_state[nodes_that_receive] += 20\n",
    "    return activity_state\n",
    "\n",
    "def network_fitness(N, network):\n",
    "    \"\"\"\n",
    "    Calculates a fitness score for a network.\n",
    "\n",
    "    Parameters:\n",
    "        :network:          Network to calculate score for.\n",
    "        \n",
    "    Returns:\n",
    "        Fitness score.\n",
    "    \"\"\"\n",
    "\n",
    "    firing_nodes = list(range(N))\n",
    "    max_iters = 1000\n",
    "    iters = 0\n",
    "    while len(firing_nodes) > 0 and iters < max_iters:\n",
    "        print(\"fired\")\n",
    "        new_activity_state = let_them_go(firing_nodes, N)\n",
    "        activity_state = new_activity_state\n",
    "        firing_nodes = np.where(activity_state >= th)[0]\n",
    "        iters += 1\n",
    "        \n",
    "    return (1)\n"
   ]
  },
  {
   "cell_type": "code",
   "execution_count": 4,
   "metadata": {},
   "outputs": [],
   "source": [
    "class Network:\n",
    "    def __init__(self, N, opts, backup=False):\n",
    "        self.N = N\n",
    "        self.adjM = np.zeros((N ** 2, N ** 2))\n",
    "        self.adjL = defaultdict(set)\n",
    "        self.nodes = np.arange(N ** 2)\n",
    "        self.is_backup = backup\n",
    "        self.opts = opts\n",
    "\n",
    "        if opts[\"distr\"] == \"gauss\":\n",
    "            self.distr = opts[\"distr\"]\n",
    "            self.locality = opts[\"locality\"]\n",
    "            marginals = normal_marginals(self.N, self.locality)\n",
    "            self.weights = gen_gauss_weights(marginals)\n",
    "\n",
    "        elif opts[\"distr\"] == \"unif\":\n",
    "            self.distr = opts[\"distr\"]\n",
    "            self.weights = gen_unif_weights(self.N)\n",
    "        else:\n",
    "            raise RuntimeError(\"Distribution not implemented: \" + opts[\"distr\"])\n",
    "\n",
    "        if backup == False:\n",
    "            self.backup = Network(N, opts, backup=True)\n",
    "\n",
    "    def add_edges(self, node, num_samples):\n",
    "        num_samples = min(num_samples, self.N - 1 - len(self.backup.adjL[node]))\n",
    "        samples = np.random.choice(\n",
    "            self.nodes, p=self.weights[node], replace=False, size=num_samples\n",
    "        )\n",
    "        for sample in samples:\n",
    "            self.weights[node][sample] = 0\n",
    "            self.adjM[node][sample] = 1\n",
    "            self.adjL[node].add(sample)\n",
    "\n",
    "        self.weights[node] /= self.weights[node].sum()\n",
    "\n",
    "        return samples\n",
    "\n",
    "    def undo(self):\n",
    "        self.adjM = np.copy(self.backup.adjM)\n",
    "        self.adjL = deepcopy(self.backup.adjL)\n",
    "        self.weights = np.copy(self.backup.weights)\n",
    "\n",
    "    def commit(self):\n",
    "        self.backup.adjM = np.copy(self.adjM)\n",
    "        self.backup.adjL = deepcopy(self.adjL)\n",
    "        self.backup.weights = np.copy(self.weights)\n",
    "\n",
    "    def show_adj(self):\n",
    "        plt.figure(figsize=(10, 10))\n",
    "        plt.imshow(self.adjM)\n",
    "        plt.show()\n",
    "\n",
    "    def serialize(self):\n",
    "        opts = deepcopy(self.opts)\n",
    "        opts[\"N\"] = self.N\n",
    "        info = [json.dumps(opts)+\"\\n\"]\n",
    "        timestr = time.strftime(\"%Y-%m-%d_%H%M%S\")\n",
    "        name = timestr + \"_\" + \"_\".join(\n",
    "            [name + \"_\" + str(val).replace(\".\", \"\") for name, val in self.opts.items()]\n",
    "        )\n",
    "        name += \".edgelist\"\n",
    "        data = [\"{} {}\\n\".format(node,neigh) for node,neighs in self.adjL.items() for neigh in neighs]\n",
    "        with open(name,'w') as f:\n",
    "            f.writelines(info + data)\n",
    "        return name\n",
    "    \n",
    "    def show_grid(self, size, labels):\n",
    "        \"\"\"\n",
    "        Visualizes whole network grid using networkx.\n",
    "\n",
    "        Params:\n",
    "            :int size:      The size of the nodes labels.\n",
    "            :bool labels:   Whether the nodes are or are not labelled.\n",
    "\n",
    "        Returns:\n",
    "            None. (prints a figure)\n",
    "        \"\"\"\n",
    "\n",
    "        # Reformat edges for networkx friendly format.\n",
    "        edges = []\n",
    "        for i in self.adjL.keys():\n",
    "            if (len(self.adjL[i]) > 0):\n",
    "                for j in self.adjL[i]:\n",
    "                    edges.append((i,j))\n",
    "\n",
    "        # Create node mapping:\n",
    "        mapping = {}\n",
    "        for i in range(self.N):\n",
    "            for j in range(self.N):\n",
    "\n",
    "                # For each node ID, find coords and set empty adjlist.\n",
    "                mapping[(self.N * i) + j] = (i,j)\n",
    "\n",
    "        # Fix mapping to play nicer with networkx \n",
    "        pos = {x:(mapping[x][1], self.N - mapping[x][0])\n",
    "              for x in mapping.keys()}\n",
    "\n",
    "        # Display figure\n",
    "        g = nx.DiGraph()\n",
    "        g.add_nodes_from(mapping.keys())\n",
    "        g.add_edges_from(edges)\n",
    "        plt.figure(figsize=(16, 16))\n",
    "        nx.draw(g, with_labels=labels, pos=pos, node_size=size)\n",
    "        plt.show()\n",
    "    \n",
    "    "
   ]
  },
  {
   "cell_type": "code",
   "execution_count": 26,
   "metadata": {},
   "outputs": [],
   "source": [
    "### Sample run\n",
    "\n",
    "#Parameters\n",
    "L = 20 #side of the grid\n",
    "N = L*L #number of nodes\n",
    "av_k = 5 #average degree in the beginning\n",
    "init_edges = N*av_k # number of edges in the initial network\n",
    "sample_type = \"local\"\n",
    "locality = 1\n",
    "th = 100 # minimum number of signals that initiate firing of node"
   ]
  },
  {
   "cell_type": "code",
   "execution_count": 27,
   "metadata": {},
   "outputs": [],
   "source": [
    "#Init network\n",
    "opts = {\"distr\": \"gauss\", \"locality\": 0.2}\n",
    "network = Network(L,opts)\n",
    "init_network_edges(N,av_k,sample_type)"
   ]
  },
  {
   "cell_type": "markdown",
   "metadata": {},
   "source": [
    "### Component 1 of fitness function"
   ]
  },
  {
   "cell_type": "code",
   "execution_count": 28,
   "metadata": {},
   "outputs": [],
   "source": [
    "#fitness as balanced edge activity\n",
    "\n",
    "def let_them_go_v1(firing_nodes , N, nedge): \n",
    "    \n",
    "    activity_state = np.zeros(N)\n",
    "    \n",
    "    for x in firing_nodes:\n",
    "        nodes_that_receive = network.adjL.get(x,[])\n",
    "        if len(nodes_that_receive) > 0 :\n",
    "            activity_state[list(nodes_that_receive)] += 20\n",
    "            for i in nodes_that_receive:\n",
    "                nedge.append((x,i))\n",
    "            \n",
    "    return activity_state, nedge\n",
    "\n",
    "def network_fitness_comp1(N, network):\n",
    "\n",
    "    nedge= []\n",
    "    \n",
    "    firing_nodes = list(range(N))\n",
    "    max_iters = 1000\n",
    "    iters = 0\n",
    "    while len(firing_nodes) > 0 and iters < max_iters:\n",
    "        #print(\"fired\")\n",
    "        new_activity_state, new_nedge = let_them_go_v1(firing_nodes, N, nedge)\n",
    "        activity_state = new_activity_state\n",
    "        nedge = new_nedge\n",
    "        firing_nodes = np.where(activity_state >= th)[0]\n",
    "        iters += 1\n",
    "    \n",
    "    count_edges = Counter(map(tuple, nedge))\n",
    "    freqs = list(count_edges.values())\n",
    "    freqs.sort(reverse = True)\n",
    "    #freqs_count = Counter(freqs)\n",
    "    \n",
    "    num_edges = sum(map(len, network.adjL.values()))\n",
    "    T = num_edges*0.75\n",
    "    summ = 0\n",
    "    idx = 0\n",
    "    while summ <= T:\n",
    "        summ = summ + freqs[idx] \n",
    "        idx += 1\n",
    "        \n",
    "    fitness_comp1 = (idx/num_edges)*100\n",
    "        \n",
    "    return fitness_comp1, freqs"
   ]
  },
  {
   "cell_type": "code",
   "execution_count": 29,
   "metadata": {},
   "outputs": [],
   "source": [
    "fitness, freqs = network_fitness_comp1(N,network)"
   ]
  },
  {
   "cell_type": "code",
   "execution_count": 30,
   "metadata": {},
   "outputs": [
    {
     "data": {
      "text/plain": [
       "34.13812464907355"
      ]
     },
     "execution_count": 30,
     "metadata": {},
     "output_type": "execute_result"
    }
   ],
   "source": [
    "fitness #the more the better"
   ]
  },
  {
   "cell_type": "code",
   "execution_count": 31,
   "metadata": {},
   "outputs": [
    {
     "data": {
      "text/plain": [
       "[<matplotlib.lines.Line2D at 0x1a1fa684e0>]"
      ]
     },
     "execution_count": 31,
     "metadata": {},
     "output_type": "execute_result"
    },
    {
     "data": {
      "image/png": "[encoded data removed]",
      "text/plain": [
       "<Figure size 432x288 with 1 Axes>"
      ]
     },
     "metadata": {
      "needs_background": "light"
     },
     "output_type": "display_data"
    }
   ],
   "source": [
    "plt.plot(freqs)"
   ]
  },
  {
   "cell_type": "markdown",
   "metadata": {},
   "source": [
    "### Component 2 of fitness function"
   ]
  },
  {
   "cell_type": "code",
   "execution_count": 32,
   "metadata": {},
   "outputs": [
    {
     "data": {
      "text/plain": [
       "[<matplotlib.lines.Line2D at 0x1a1faccda0>]"
      ]
     },
     "execution_count": 32,
     "metadata": {},
     "output_type": "execute_result"
    },
    {
     "data": {
      "image/png": "[encoded data removed]",
      "text/plain": [
       "<Figure size 432x288 with 1 Axes>"
      ]
     },
     "metadata": {
      "needs_background": "light"
     },
     "output_type": "display_data"
    }
   ],
   "source": [
    "def gauss(x, mean, scale):\n",
    "    return (1 / (scale * math.sqrt(2 * math.pi)) * (math.e ** -(0.5 * (x - mean)**2 / scale**2))) -0.015\n",
    "y = np.linspace(1, 100, 100) \n",
    "x = gauss(y,70,15)\n",
    "plt.plot(x)"
   ]
  },
  {
   "cell_type": "code",
   "execution_count": 33,
   "metadata": {},
   "outputs": [],
   "source": [
    "def let_them_go_v2(firing_nodes , N): \n",
    "    \n",
    "    activity_state = np.zeros(N)\n",
    "    \n",
    "    for x in firing_nodes:\n",
    "        nodes_that_receive = network.adjL.get(x,[])\n",
    "        if len(nodes_that_receive) > 0 :\n",
    "            activity_state[list(nodes_that_receive)] += 20\n",
    "        \n",
    "    return activity_state\n",
    "\n",
    "def network_fitness_comp2(N, network):\n",
    "    \n",
    "    fitn2 = []\n",
    "    \n",
    "    firing_nodes = list(range(N))\n",
    "    max_iters = 1000\n",
    "    iters = 0\n",
    "    while len(firing_nodes) > 0 and iters < max_iters:\n",
    "        #print(\"fired\")\n",
    "        new_activity_state = let_them_go_v2(firing_nodes, N)\n",
    "        activity_state = new_activity_state\n",
    "        firing_nodes = np.where(activity_state >= th)[0]\n",
    "        iters += 1\n",
    "        prop_node = len(firing_nodes)/N\n",
    "        f = gauss((prop_node*100),70,15)\n",
    "        fitn2.append(f)\n",
    "        \n",
    "    \n",
    "    #averaging iterations\n",
    "    ave_fitn = sum(fitn2) / (iters-1) #first loop everyone always fires\n",
    "    \n",
    "    fitness_2 = ave_fitn*1000\n",
    "    \n",
    "    return fitness_2"
   ]
  },
  {
   "cell_type": "code",
   "execution_count": 34,
   "metadata": {},
   "outputs": [],
   "source": [
    "v2_fitness = network_fitness_comp2(N,network)"
   ]
  },
  {
   "cell_type": "code",
   "execution_count": 35,
   "metadata": {},
   "outputs": [
    {
     "data": {
      "text/plain": [
       "-19.088956210746495"
      ]
     },
     "execution_count": 35,
     "metadata": {},
     "output_type": "execute_result"
    }
   ],
   "source": [
    "v2_fitness"
   ]
  },
  {
   "cell_type": "code",
   "execution_count": null,
   "metadata": {},
   "outputs": [],
   "source": []
  }
 ],
 "metadata": {
  "kernelspec": {
   "display_name": "Python 3",
   "language": "python",
   "name": "python3"
  },
  "language_info": {
   "codemirror_mode": {
    "name": "ipython",
    "version": 3
   },
   "file_extension": ".py",
   "mimetype": "text/x-python",
   "name": "python",
   "nbconvert_exporter": "python",
   "pygments_lexer": "ipython3",
   "version": "3.7.2"
  }
 },
 "nbformat": 4,
 "nbformat_minor": 4
}
